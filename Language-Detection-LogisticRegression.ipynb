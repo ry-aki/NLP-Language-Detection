{
 "cells": [
  {
   "cell_type": "markdown",
   "id": "610465d2",
   "metadata": {},
   "source": [
    "# Language-Detection model using LogisticRegression"
   ]
  },
  {
   "cell_type": "code",
   "execution_count": 1,
   "id": "baca68b1",
   "metadata": {},
   "outputs": [],
   "source": [
    "#importing necessary libraries\n",
    "\n",
    "import re\n",
    "import pandas as pd\n",
    "import numpy as np\n",
    "import matplotlib.pyplot as plt\n",
    "import seaborn as sns"
   ]
  },
  {
   "cell_type": "code",
   "execution_count": 2,
   "id": "22fad4d7",
   "metadata": {},
   "outputs": [],
   "source": [
    "from sklearn.preprocessing import LabelEncoder\n",
    "from sklearn.feature_extraction.text import CountVectorizer\n",
    "from sklearn.model_selection import train_test_split\n",
    "from sklearn.linear_model import LogisticRegression\n",
    "from sklearn.metrics import accuracy_score, confusion_matrix, classification_report"
   ]
  },
  {
   "cell_type": "code",
   "execution_count": 3,
   "id": "a6c43eab",
   "metadata": {},
   "outputs": [
    {
     "data": {
      "text/html": [
       "<div>\n",
       "<style scoped>\n",
       "    .dataframe tbody tr th:only-of-type {\n",
       "        vertical-align: middle;\n",
       "    }\n",
       "\n",
       "    .dataframe tbody tr th {\n",
       "        vertical-align: top;\n",
       "    }\n",
       "\n",
       "    .dataframe thead th {\n",
       "        text-align: right;\n",
       "    }\n",
       "</style>\n",
       "<table border=\"1\" class=\"dataframe\">\n",
       "  <thead>\n",
       "    <tr style=\"text-align: right;\">\n",
       "      <th></th>\n",
       "      <th>Text</th>\n",
       "      <th>Language</th>\n",
       "    </tr>\n",
       "  </thead>\n",
       "  <tbody>\n",
       "    <tr>\n",
       "      <th>0</th>\n",
       "      <td>Nature, in the broadest sense, is the natural...</td>\n",
       "      <td>English</td>\n",
       "    </tr>\n",
       "    <tr>\n",
       "      <th>1</th>\n",
       "      <td>\"Nature\" can refer to the phenomena of the phy...</td>\n",
       "      <td>English</td>\n",
       "    </tr>\n",
       "    <tr>\n",
       "      <th>2</th>\n",
       "      <td>The study of nature is a large, if not the onl...</td>\n",
       "      <td>English</td>\n",
       "    </tr>\n",
       "    <tr>\n",
       "      <th>3</th>\n",
       "      <td>Although humans are part of nature, human acti...</td>\n",
       "      <td>English</td>\n",
       "    </tr>\n",
       "    <tr>\n",
       "      <th>4</th>\n",
       "      <td>[1] The word nature is borrowed from the Old F...</td>\n",
       "      <td>English</td>\n",
       "    </tr>\n",
       "    <tr>\n",
       "      <th>5</th>\n",
       "      <td>[2] In ancient philosophy, natura is mostly us...</td>\n",
       "      <td>English</td>\n",
       "    </tr>\n",
       "    <tr>\n",
       "      <th>6</th>\n",
       "      <td>[3][4] \\nThe concept of nature as a whole, the...</td>\n",
       "      <td>English</td>\n",
       "    </tr>\n",
       "    <tr>\n",
       "      <th>7</th>\n",
       "      <td>During the advent of modern scientific method ...</td>\n",
       "      <td>English</td>\n",
       "    </tr>\n",
       "    <tr>\n",
       "      <th>8</th>\n",
       "      <td>[5][6] With the Industrial revolution, nature ...</td>\n",
       "      <td>English</td>\n",
       "    </tr>\n",
       "    <tr>\n",
       "      <th>9</th>\n",
       "      <td>However, a vitalist vision of nature, closer t...</td>\n",
       "      <td>English</td>\n",
       "    </tr>\n",
       "  </tbody>\n",
       "</table>\n",
       "</div>"
      ],
      "text/plain": [
       "                                                Text Language\n",
       "0   Nature, in the broadest sense, is the natural...  English\n",
       "1  \"Nature\" can refer to the phenomena of the phy...  English\n",
       "2  The study of nature is a large, if not the onl...  English\n",
       "3  Although humans are part of nature, human acti...  English\n",
       "4  [1] The word nature is borrowed from the Old F...  English\n",
       "5  [2] In ancient philosophy, natura is mostly us...  English\n",
       "6  [3][4] \\nThe concept of nature as a whole, the...  English\n",
       "7  During the advent of modern scientific method ...  English\n",
       "8  [5][6] With the Industrial revolution, nature ...  English\n",
       "9  However, a vitalist vision of nature, closer t...  English"
      ]
     },
     "execution_count": 3,
     "metadata": {},
     "output_type": "execute_result"
    }
   ],
   "source": [
    "#loading dataset\n",
    "\n",
    "df = pd.read_csv(\"Language Detection.csv\")\n",
    "df.head(10)"
   ]
  },
  {
   "cell_type": "code",
   "execution_count": 4,
   "id": "38a979c4",
   "metadata": {},
   "outputs": [
    {
     "data": {
      "text/plain": [
       "English       1385\n",
       "French        1014\n",
       "Spanish        819\n",
       "Portugeese     739\n",
       "Italian        698\n",
       "Russian        692\n",
       "Sweedish       676\n",
       "Malayalam      594\n",
       "Dutch          546\n",
       "Arabic         536\n",
       "Turkish        474\n",
       "German         470\n",
       "Tamil          469\n",
       "Danish         428\n",
       "Kannada        369\n",
       "Greek          365\n",
       "Hindi           63\n",
       "Name: Language, dtype: int64"
      ]
     },
     "execution_count": 4,
     "metadata": {},
     "output_type": "execute_result"
    }
   ],
   "source": [
    "df[\"Language\"].value_counts()           #value count for each language"
   ]
  },
  {
   "cell_type": "code",
   "execution_count": 5,
   "id": "acca6c8a",
   "metadata": {},
   "outputs": [],
   "source": [
    "#separating independent and dependant features\n",
    "\n",
    "X = df[\"Text\"]\n",
    "Y = df[\"Language\"]"
   ]
  },
  {
   "cell_type": "code",
   "execution_count": 6,
   "id": "0d0f8cab",
   "metadata": {},
   "outputs": [],
   "source": [
    "le = LabelEncoder()\n",
    "y = le.fit_transform(Y)"
   ]
  },
  {
   "cell_type": "code",
   "execution_count": 7,
   "id": "99c1efd0",
   "metadata": {},
   "outputs": [],
   "source": [
    "#preprocessed list of data\n",
    "\n",
    "data_list = []\n",
    "for text in X:\n",
    "    text = re.sub('[^\\w\\s]',' ', text)\n",
    "    text = re.sub('[0-9]', '', text)\n",
    "    text = text.lower()\n",
    "    data_list.append(text)"
   ]
  },
  {
   "cell_type": "code",
   "execution_count": 8,
   "id": "3ed98096",
   "metadata": {},
   "outputs": [
    {
     "data": {
      "text/plain": [
       "(10337, 39404)"
      ]
     },
     "execution_count": 8,
     "metadata": {},
     "output_type": "execute_result"
    }
   ],
   "source": [
    "#bag-of-words\n",
    "\n",
    "cv = CountVectorizer()\n",
    "x = cv.fit_transform(data_list).toarray()\n",
    "x.shape"
   ]
  },
  {
   "cell_type": "code",
   "execution_count": 9,
   "id": "9cbfca67",
   "metadata": {},
   "outputs": [],
   "source": [
    "#train-test-splitting\n",
    "\n",
    "x_train, x_test, y_train, y_test = train_test_split(x, y, test_size = 0.20)"
   ]
  },
  {
   "cell_type": "code",
   "execution_count": 10,
   "id": "27e43931",
   "metadata": {},
   "outputs": [
    {
     "data": {
      "text/plain": [
       "LogisticRegression()"
      ]
     },
     "execution_count": 10,
     "metadata": {},
     "output_type": "execute_result"
    }
   ],
   "source": [
    "#model training\n",
    "\n",
    "model = LogisticRegression()\n",
    "model.fit(x_train, y_train)"
   ]
  },
  {
   "cell_type": "code",
   "execution_count": 11,
   "id": "b48c4377",
   "metadata": {},
   "outputs": [
    {
     "data": {
      "text/plain": [
       "0.9526112185686654"
      ]
     },
     "execution_count": 11,
     "metadata": {},
     "output_type": "execute_result"
    }
   ],
   "source": [
    "model.score(x_test, y_test)"
   ]
  },
  {
   "cell_type": "code",
   "execution_count": 12,
   "id": "405ae1cf",
   "metadata": {},
   "outputs": [],
   "source": [
    "#prediction\n",
    "\n",
    "y_prediction = model.predict(x_test) "
   ]
  },
  {
   "cell_type": "code",
   "execution_count": 13,
   "id": "d83b6a4c",
   "metadata": {},
   "outputs": [
    {
     "data": {
      "text/plain": [
       "array([ 0, 11, 15, ..., 14, 13,  4])"
      ]
     },
     "execution_count": 13,
     "metadata": {},
     "output_type": "execute_result"
    }
   ],
   "source": [
    "y_prediction"
   ]
  },
  {
   "cell_type": "code",
   "execution_count": 14,
   "id": "f330d69e",
   "metadata": {},
   "outputs": [],
   "source": [
    "#evaluating model\n",
    "\n",
    "ac = accuracy_score(y_test, y_prediction)\n",
    "cm = confusion_matrix(y_test, y_prediction)"
   ]
  },
  {
   "cell_type": "code",
   "execution_count": 15,
   "id": "f2c1d914",
   "metadata": {},
   "outputs": [
    {
     "data": {
      "text/plain": [
       "0.9526112185686654"
      ]
     },
     "execution_count": 15,
     "metadata": {},
     "output_type": "execute_result"
    }
   ],
   "source": [
    "ac"
   ]
  },
  {
   "cell_type": "code",
   "execution_count": 16,
   "id": "43d59272",
   "metadata": {},
   "outputs": [
    {
     "name": "stdout",
     "output_type": "stream",
     "text": [
      "              precision    recall  f1-score   support\n",
      "\n",
      "      Arabic       1.00      0.94      0.97       109\n",
      "      Danish       0.97      0.91      0.94        91\n",
      "       Dutch       0.99      0.93      0.96       123\n",
      "     English       0.98      0.99      0.99       249\n",
      "      French       0.99      0.97      0.98       221\n",
      "      German       1.00      0.96      0.98       100\n",
      "       Greek       1.00      0.95      0.98        88\n",
      "       Hindi       1.00      0.67      0.80        12\n",
      "     Italian       0.95      0.92      0.94       129\n",
      "     Kannada       1.00      0.96      0.98        78\n",
      "   Malayalam       1.00      0.96      0.98       108\n",
      "  Portugeese       0.99      0.92      0.96       150\n",
      "     Russian       0.67      1.00      0.80       129\n",
      "     Spanish       0.91      0.97      0.94       145\n",
      "    Sweedish       0.98      0.95      0.97       133\n",
      "       Tamil       1.00      0.95      0.97       114\n",
      "     Turkish       0.98      0.92      0.95        89\n",
      "\n",
      "    accuracy                           0.95      2068\n",
      "   macro avg       0.97      0.93      0.95      2068\n",
      "weighted avg       0.96      0.95      0.95      2068\n",
      "\n"
     ]
    }
   ],
   "source": [
    "tname = np.array(df[\"Language\"])\n",
    "tname = np.unique(tname)\n",
    "print(classification_report(y_test, y_prediction, target_names = tname))"
   ]
  },
  {
   "cell_type": "code",
   "execution_count": 17,
   "id": "d5bd7974",
   "metadata": {},
   "outputs": [
    {
     "data": {
      "text/plain": [
       "<AxesSubplot:>"
      ]
     },
     "execution_count": 17,
     "metadata": {},
     "output_type": "execute_result"
    },
    {
     "data": {
      "image/png": "[encoded data removed]",
      "text/plain": [
       "<Figure size 1440x720 with 2 Axes>"
      ]
     },
     "metadata": {
      "needs_background": "light"
     },
     "output_type": "display_data"
    }
   ],
   "source": [
    "#plotting confusion-matrix\n",
    "\n",
    "plt.figure(figsize = (20,10))\n",
    "sns.heatmap(cm, annot = True, fmt = \"d\")"
   ]
  },
  {
   "cell_type": "code",
   "execution_count": 18,
   "id": "6439a8ae",
   "metadata": {},
   "outputs": [],
   "source": [
    "#function for language prediction\n",
    "\n",
    "def predict_language(text):\n",
    "    x = cv.transform([text]).toarray()\n",
    "    lang = model.predict(x)\n",
    "    lang = le.inverse_transform(lang)\n",
    "    print(lang)"
   ]
  },
  {
   "cell_type": "code",
   "execution_count": 19,
   "id": "477a0cb3",
   "metadata": {},
   "outputs": [
    {
     "name": "stdout",
     "output_type": "stream",
     "text": [
      "['English']\n"
     ]
    }
   ],
   "source": [
    "#result\n",
    "\n",
    "predict_language(\"This is my first NLP project.\")         #English"
   ]
  },
  {
   "cell_type": "code",
   "execution_count": 20,
   "id": "c54b051e",
   "metadata": {},
   "outputs": [
    {
     "name": "stdout",
     "output_type": "stream",
     "text": [
      "['Portugeese']\n"
     ]
    }
   ],
   "source": [
    "predict_language(\"Este é meu primeiro projeto de PNL.\")    #Portuguese"
   ]
  },
  {
   "cell_type": "code",
   "execution_count": 21,
   "id": "5ccafaf0",
   "metadata": {},
   "outputs": [
    {
     "name": "stdout",
     "output_type": "stream",
     "text": [
      "['Russian']\n"
     ]
    }
   ],
   "source": [
    "predict_language(\"Это мой первый проект НЛП.\")        #Russian"
   ]
  },
  {
   "cell_type": "code",
   "execution_count": 22,
   "id": "318b5c84",
   "metadata": {},
   "outputs": [
    {
     "name": "stdout",
     "output_type": "stream",
     "text": [
      "['French']\n"
     ]
    }
   ],
   "source": [
    "predict_language(\"C'est mon premier projet PNL.\")      #French"
   ]
  },
  {
   "cell_type": "code",
   "execution_count": 23,
   "id": "93c6eb08",
   "metadata": {
    "scrolled": true
   },
   "outputs": [
    {
     "name": "stdout",
     "output_type": "stream",
     "text": [
      "['Malayalam']\n"
     ]
    }
   ],
   "source": [
    "predict_language(\"ഇത് എന്റെ ആദ്യത്തെ NLP പ്രോജക്ടാണ്.\")    #Malayalam"
   ]
  }
 ],
 "metadata": {
  "kernelspec": {
   "display_name": "Python 3 (ipykernel)",
   "language": "python",
   "name": "python3"
  },
  "language_info": {
   "codemirror_mode": {
    "name": "ipython",
    "version": 3
   },
   "file_extension": ".py",
   "mimetype": "text/x-python",
   "name": "python",
   "nbconvert_exporter": "python",
   "pygments_lexer": "ipython3",
   "version": "3.9.7"
  }
 },
 "nbformat": 4,
 "nbformat_minor": 5
}
